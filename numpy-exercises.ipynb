{
 "cells": [
  {
   "cell_type": "markdown",
   "metadata": {},
   "source": [
    "# NumPy Practice\n",
    "\n",
    "This notebook offers a set of exercises for different tasks with NumPy.\n",
    "\n",
    "It should be noted there may be more than one different way to answer a question or complete an exercise.\n",
    "\n",
    "Exercises are based off (and directly taken from) the quick introduction to NumPy notebook.\n",
    "\n",
    "Different tasks will be detailed by comments or text.\n",
    "\n",
    "For further reference and resources, it's advised to check out the [NumPy documentation](https://numpy.org/devdocs/user/index.html).\n",
    "\n",
    "And if you get stuck, try searching for a question in the following format: \"how to do XYZ with numpy\", where XYZ is the function you want to leverage from NumPy."
   ]
  },
  {
   "cell_type": "code",
   "metadata": {
    "ExecuteTime": {
     "end_time": "2024-11-24T18:24:29.765709Z",
     "start_time": "2024-11-24T18:24:29.717360Z"
    }
   },
   "source": [
    "from random import random\n",
    "from turtledemo.penrose import start\n",
    "\n",
    "# Import NumPy as its abbreviation 'np'\n",
    "import numpy as np\n",
    "from numpy.ma.core import shape, count"
   ],
   "outputs": [],
   "execution_count": 1
  },
  {
   "cell_type": "code",
   "metadata": {
    "ExecuteTime": {
     "end_time": "2024-11-24T18:24:29.772737Z",
     "start_time": "2024-11-24T18:24:29.770430Z"
    }
   },
   "source": [
    "# Create a 1-dimensional NumPy array using np.array()\n",
    "a_1d = np.array(\n",
    "    [1, 2, 3]\n",
    ")\n",
    "\n",
    "# Create a 2-dimensional NumPy array using np.array()\n",
    "a_2d = np.array([\n",
    "    [1, 2, 3],\n",
    "    [4, 5, 6],\n",
    "    [7, 8, 9]\n",
    "])\n",
    "\n",
    "# Create a 3-dimensional Numpy array using np.array()\n",
    "a_3d = np.array([[\n",
    "    [1, 2, 3],\n",
    "    [4, 5, 6],\n",
    "    [7, 8, 9],\n",
    "], [\n",
    "    [10, 11, 12],\n",
    "    [13, 14, 15],\n",
    "    [16, 17, 18]\n",
    "], [\n",
    "    [19, 20, 21],\n",
    "    [22, 23, 24],\n",
    "    [25, 26, 27]\n",
    "]])"
   ],
   "outputs": [],
   "execution_count": 2
  },
  {
   "cell_type": "markdown",
   "metadata": {},
   "source": [
    "Now we've you've created 3 different arrays, let's find details about them.\n",
    "\n",
    "Find the shape, number of dimensions, data type, size and type of each array."
   ]
  },
  {
   "cell_type": "code",
   "metadata": {
    "ExecuteTime": {
     "end_time": "2024-11-24T18:24:29.811736Z",
     "start_time": "2024-11-24T18:24:29.807990Z"
    }
   },
   "source": [
    "# Attributes of 1-dimensional array (shape, \n",
    "# number of dimensions, data type, size and type)\n",
    "a_1d.ndim, a_1d.dtype, a_1d.size, a_1d.shape, type(a_1d)"
   ],
   "outputs": [
    {
     "data": {
      "text/plain": [
       "(1, dtype('int64'), 3, (3,), numpy.ndarray)"
      ]
     },
     "execution_count": 3,
     "metadata": {},
     "output_type": "execute_result"
    }
   ],
   "execution_count": 3
  },
  {
   "cell_type": "code",
   "metadata": {
    "ExecuteTime": {
     "end_time": "2024-11-24T18:24:29.822184Z",
     "start_time": "2024-11-24T18:24:29.819654Z"
    }
   },
   "source": [
    "# Attributes of 2-dimensional array\n",
    "a_2d.ndim, a_2d.dtype, a_2d.size, a_2d.shape, type(a_2d)"
   ],
   "outputs": [
    {
     "data": {
      "text/plain": [
       "(2, dtype('int64'), 9, (3, 3), numpy.ndarray)"
      ]
     },
     "execution_count": 4,
     "metadata": {},
     "output_type": "execute_result"
    }
   ],
   "execution_count": 4
  },
  {
   "cell_type": "code",
   "metadata": {
    "ExecuteTime": {
     "end_time": "2024-11-24T18:24:29.843072Z",
     "start_time": "2024-11-24T18:24:29.840708Z"
    }
   },
   "source": [
    "# Attributes of 3-dimensional array\n",
    "a_3d.ndim, a_3d.dtype, a_3d.size, a_3d.shape, type(a_3d)"
   ],
   "outputs": [
    {
     "data": {
      "text/plain": [
       "(3, dtype('int64'), 27, (3, 3, 3), numpy.ndarray)"
      ]
     },
     "execution_count": 5,
     "metadata": {},
     "output_type": "execute_result"
    }
   ],
   "execution_count": 5
  },
  {
   "cell_type": "code",
   "metadata": {
    "ExecuteTime": {
     "end_time": "2024-11-24T18:24:30.044458Z",
     "start_time": "2024-11-24T18:24:29.856320Z"
    }
   },
   "source": [
    "# Import pandas and create a DataFrame out of one\n",
    "# of the arrays you've created\n",
    "import pandas as pd\n",
    "\n",
    "df_1d = pd.DataFrame(a_1d)\n",
    "df_1d"
   ],
   "outputs": [
    {
     "data": {
      "text/plain": [
       "   0\n",
       "0  1\n",
       "1  2\n",
       "2  3"
      ],
      "text/html": [
       "<div>\n",
       "<style scoped>\n",
       "    .dataframe tbody tr th:only-of-type {\n",
       "        vertical-align: middle;\n",
       "    }\n",
       "\n",
       "    .dataframe tbody tr th {\n",
       "        vertical-align: top;\n",
       "    }\n",
       "\n",
       "    .dataframe thead th {\n",
       "        text-align: right;\n",
       "    }\n",
       "</style>\n",
       "<table border=\"1\" class=\"dataframe\">\n",
       "  <thead>\n",
       "    <tr style=\"text-align: right;\">\n",
       "      <th></th>\n",
       "      <th>0</th>\n",
       "    </tr>\n",
       "  </thead>\n",
       "  <tbody>\n",
       "    <tr>\n",
       "      <th>0</th>\n",
       "      <td>1</td>\n",
       "    </tr>\n",
       "    <tr>\n",
       "      <th>1</th>\n",
       "      <td>2</td>\n",
       "    </tr>\n",
       "    <tr>\n",
       "      <th>2</th>\n",
       "      <td>3</td>\n",
       "    </tr>\n",
       "  </tbody>\n",
       "</table>\n",
       "</div>"
      ]
     },
     "execution_count": 6,
     "metadata": {},
     "output_type": "execute_result"
    }
   ],
   "execution_count": 6
  },
  {
   "cell_type": "code",
   "metadata": {
    "ExecuteTime": {
     "end_time": "2024-11-24T18:24:30.065738Z",
     "start_time": "2024-11-24T18:24:30.063468Z"
    }
   },
   "source": [
    "# Create an array of shape (10, 2) with only ones\n",
    "a_ones1 = np.ones((10, 2))\n",
    "a_ones1"
   ],
   "outputs": [
    {
     "data": {
      "text/plain": [
       "array([[1., 1.],\n",
       "       [1., 1.],\n",
       "       [1., 1.],\n",
       "       [1., 1.],\n",
       "       [1., 1.],\n",
       "       [1., 1.],\n",
       "       [1., 1.],\n",
       "       [1., 1.],\n",
       "       [1., 1.],\n",
       "       [1., 1.]])"
      ]
     },
     "execution_count": 7,
     "metadata": {},
     "output_type": "execute_result"
    }
   ],
   "execution_count": 7
  },
  {
   "cell_type": "code",
   "metadata": {
    "ExecuteTime": {
     "end_time": "2024-11-24T18:24:30.087345Z",
     "start_time": "2024-11-24T18:24:30.085322Z"
    }
   },
   "source": [
    "# Create an array of shape (7, 2, 3) of only zeros\n",
    "a_zeros = np.zeros((7, 2, 3))\n",
    "a_zeros"
   ],
   "outputs": [
    {
     "data": {
      "text/plain": [
       "array([[[0., 0., 0.],\n",
       "        [0., 0., 0.]],\n",
       "\n",
       "       [[0., 0., 0.],\n",
       "        [0., 0., 0.]],\n",
       "\n",
       "       [[0., 0., 0.],\n",
       "        [0., 0., 0.]],\n",
       "\n",
       "       [[0., 0., 0.],\n",
       "        [0., 0., 0.]],\n",
       "\n",
       "       [[0., 0., 0.],\n",
       "        [0., 0., 0.]],\n",
       "\n",
       "       [[0., 0., 0.],\n",
       "        [0., 0., 0.]],\n",
       "\n",
       "       [[0., 0., 0.],\n",
       "        [0., 0., 0.]]])"
      ]
     },
     "execution_count": 8,
     "metadata": {},
     "output_type": "execute_result"
    }
   ],
   "execution_count": 8
  },
  {
   "cell_type": "code",
   "metadata": {
    "ExecuteTime": {
     "end_time": "2024-11-24T18:24:30.130050Z",
     "start_time": "2024-11-24T18:24:30.127647Z"
    }
   },
   "source": [
    "# Create an array within a range of 0 and 100 with step 3\n",
    "a_range = np.arange(start=0, stop=100, step=3)\n",
    "a_range"
   ],
   "outputs": [
    {
     "data": {
      "text/plain": [
       "array([ 0,  3,  6,  9, 12, 15, 18, 21, 24, 27, 30, 33, 36, 39, 42, 45, 48,\n",
       "       51, 54, 57, 60, 63, 66, 69, 72, 75, 78, 81, 84, 87, 90, 93, 96, 99])"
      ]
     },
     "execution_count": 9,
     "metadata": {},
     "output_type": "execute_result"
    }
   ],
   "execution_count": 9
  },
  {
   "cell_type": "code",
   "metadata": {
    "ExecuteTime": {
     "end_time": "2024-11-24T18:24:30.160294Z",
     "start_time": "2024-11-24T18:24:30.158038Z"
    }
   },
   "source": [
    "# Create a random array with numbers between 0 and 10 of size (7, 2)\n",
    "a_random1 = np.random.randint(0, 10, size=(7, 2))\n",
    "a_random1"
   ],
   "outputs": [
    {
     "data": {
      "text/plain": [
       "array([[7, 9],\n",
       "       [1, 6],\n",
       "       [4, 8],\n",
       "       [1, 1],\n",
       "       [8, 4],\n",
       "       [3, 3],\n",
       "       [9, 9]])"
      ]
     },
     "execution_count": 10,
     "metadata": {},
     "output_type": "execute_result"
    }
   ],
   "execution_count": 10
  },
  {
   "cell_type": "code",
   "metadata": {
    "ExecuteTime": {
     "end_time": "2024-11-24T18:24:30.237989Z",
     "start_time": "2024-11-24T18:24:30.230834Z"
    }
   },
   "source": [
    "# Create a random array of floats between 0 & 1 of shape (3, 5)\n",
    "a_random2 = np.random.random(size=(3, 5))\n",
    "a_random2"
   ],
   "outputs": [
    {
     "data": {
      "text/plain": [
       "array([[0.29321195, 0.8746405 , 0.6609842 , 0.40825293, 0.88123036],\n",
       "       [0.91576087, 0.34034035, 0.617174  , 0.7318877 , 0.48837841],\n",
       "       [0.27091404, 0.45654117, 0.74965709, 0.26634517, 0.07232676]])"
      ]
     },
     "execution_count": 11,
     "metadata": {},
     "output_type": "execute_result"
    }
   ],
   "execution_count": 11
  },
  {
   "cell_type": "code",
   "metadata": {
    "ExecuteTime": {
     "end_time": "2024-11-24T18:24:30.264491Z",
     "start_time": "2024-11-24T18:24:30.260690Z"
    }
   },
   "source": [
    "# Set the random seed to 42\n",
    "np.random.seed(42)\n",
    "\n",
    "# Create a random array of numbers between 0 & 10 of size (4, 6)\n",
    "a_random3 = np.random.randint(0, 10, size=(4, 6))\n",
    "a_random3"
   ],
   "outputs": [
    {
     "data": {
      "text/plain": [
       "array([[6, 3, 7, 4, 6, 9],\n",
       "       [2, 6, 7, 4, 3, 7],\n",
       "       [7, 2, 5, 4, 1, 7],\n",
       "       [5, 1, 4, 0, 9, 5]])"
      ]
     },
     "execution_count": 12,
     "metadata": {},
     "output_type": "execute_result"
    }
   ],
   "execution_count": 12
  },
  {
   "cell_type": "markdown",
   "metadata": {},
   "source": [
    "Run the cell above again, what happens?\n",
    "\n",
    "Are the numbers in the array different or the same? Why do think this is?"
   ]
  },
  {
   "cell_type": "code",
   "metadata": {
    "ExecuteTime": {
     "end_time": "2024-11-24T18:24:30.328455Z",
     "start_time": "2024-11-24T18:24:30.325699Z"
    }
   },
   "source": [
    "# Create an array of random numbers between 1 & 10 of size (3, 7)\n",
    "# and save it to a variable\n",
    "a_random4 = np.random.randint(1, 10, size=(3, 7))\n",
    "\n",
    "# Find the unique numbers in the array you just created\n",
    "np.unique(a_random4)"
   ],
   "outputs": [
    {
     "data": {
      "text/plain": [
       "array([1, 2, 3, 4, 5, 7, 9])"
      ]
     },
     "execution_count": 13,
     "metadata": {},
     "output_type": "execute_result"
    }
   ],
   "execution_count": 13
  },
  {
   "cell_type": "code",
   "metadata": {
    "ExecuteTime": {
     "end_time": "2024-11-24T18:24:30.381939Z",
     "start_time": "2024-11-24T18:24:30.380107Z"
    }
   },
   "source": [
    "# Find the 0'th index of the latest array you created\n",
    "a_random4[0]"
   ],
   "outputs": [
    {
     "data": {
      "text/plain": [
       "array([9, 1, 3, 7, 4, 9, 3])"
      ]
     },
     "execution_count": 14,
     "metadata": {},
     "output_type": "execute_result"
    }
   ],
   "execution_count": 14
  },
  {
   "cell_type": "code",
   "metadata": {
    "ExecuteTime": {
     "end_time": "2024-11-24T18:24:30.412906Z",
     "start_time": "2024-11-24T18:24:30.410220Z"
    }
   },
   "source": [
    "# Get the first 2 rows of latest array you created\n",
    "a_random4[:2]"
   ],
   "outputs": [
    {
     "data": {
      "text/plain": [
       "array([[9, 1, 3, 7, 4, 9, 3],\n",
       "       [5, 3, 7, 5, 9, 7, 2]])"
      ]
     },
     "execution_count": 15,
     "metadata": {},
     "output_type": "execute_result"
    }
   ],
   "execution_count": 15
  },
  {
   "cell_type": "code",
   "metadata": {
    "ExecuteTime": {
     "end_time": "2024-11-24T18:24:30.443074Z",
     "start_time": "2024-11-24T18:24:30.438727Z"
    }
   },
   "source": [
    "# Get the first 2 values of the first 2 rows of the latest array\n",
    "a_random4[:2, :2]"
   ],
   "outputs": [
    {
     "data": {
      "text/plain": [
       "array([[9, 1],\n",
       "       [5, 3]])"
      ]
     },
     "execution_count": 16,
     "metadata": {},
     "output_type": "execute_result"
    }
   ],
   "execution_count": 16
  },
  {
   "cell_type": "code",
   "metadata": {
    "ExecuteTime": {
     "end_time": "2024-11-24T18:24:30.482716Z",
     "start_time": "2024-11-24T18:24:30.480951Z"
    }
   },
   "source": [
    "# Create a random array of numbers between 0 & 10 and an array of ones\n",
    "# both of size (3, 5), save them both to variables\n",
    "a_random5 = np.random.randint(0, 10, size=(3, 5))\n",
    "a_ones2 = np.ones(shape=(3, 5))"
   ],
   "outputs": [],
   "execution_count": 17
  },
  {
   "cell_type": "code",
   "metadata": {
    "ExecuteTime": {
     "end_time": "2024-11-24T18:24:30.494770Z",
     "start_time": "2024-11-24T18:24:30.492962Z"
    }
   },
   "source": [
    "# Add the two arrays together\n",
    "a_ones2 + a_random5"
   ],
   "outputs": [
    {
     "data": {
      "text/plain": [
       "array([[ 7.,  8.,  3.,  1.,  4.],\n",
       "       [ 2.,  8.,  4.,  2.,  6.],\n",
       "       [ 6., 10.,  4.,  6.,  2.]])"
      ]
     },
     "execution_count": 18,
     "metadata": {},
     "output_type": "execute_result"
    }
   ],
   "execution_count": 18
  },
  {
   "cell_type": "code",
   "metadata": {
    "ExecuteTime": {
     "end_time": "2024-11-24T18:24:30.527315Z",
     "start_time": "2024-11-24T18:24:30.525323Z"
    }
   },
   "source": [
    "# Create another array of ones of shape (5, 3)\n",
    "a_ones3 = np.ones(shape=(5, 3))\n",
    "a_ones3"
   ],
   "outputs": [
    {
     "data": {
      "text/plain": [
       "array([[1., 1., 1.],\n",
       "       [1., 1., 1.],\n",
       "       [1., 1., 1.],\n",
       "       [1., 1., 1.],\n",
       "       [1., 1., 1.]])"
      ]
     },
     "execution_count": 19,
     "metadata": {},
     "output_type": "execute_result"
    }
   ],
   "execution_count": 19
  },
  {
   "cell_type": "code",
   "metadata": {
    "ExecuteTime": {
     "end_time": "2024-11-24T18:24:30.563453Z",
     "start_time": "2024-11-24T18:24:30.562184Z"
    }
   },
   "source": [
    "# Try add the array of ones and the other most recent array together\n",
    "# a_ones3 + a_random5"
   ],
   "outputs": [],
   "execution_count": 20
  },
  {
   "cell_type": "markdown",
   "metadata": {},
   "source": [
    "When you try the last cell, it produces an error. Why do think this is?\n",
    "\n",
    "How would you fix it?"
   ]
  },
  {
   "cell_type": "code",
   "metadata": {
    "ExecuteTime": {
     "end_time": "2024-11-24T18:24:30.600545Z",
     "start_time": "2024-11-24T18:24:30.596834Z"
    }
   },
   "source": [
    "# Create another array of ones of shape (3, 5)\n",
    "a_ones4 = np.ones(shape=(3, 5))\n",
    "a_ones4"
   ],
   "outputs": [
    {
     "data": {
      "text/plain": [
       "array([[1., 1., 1., 1., 1.],\n",
       "       [1., 1., 1., 1., 1.],\n",
       "       [1., 1., 1., 1., 1.]])"
      ]
     },
     "execution_count": 21,
     "metadata": {},
     "output_type": "execute_result"
    }
   ],
   "execution_count": 21
  },
  {
   "cell_type": "code",
   "metadata": {
    "ExecuteTime": {
     "end_time": "2024-11-24T18:24:30.636894Z",
     "start_time": "2024-11-24T18:24:30.634820Z"
    }
   },
   "source": [
    "# Subtract the new array of ones from the other most recent array\n",
    "a_ones4 - a_random5"
   ],
   "outputs": [
    {
     "data": {
      "text/plain": [
       "array([[-5., -6., -1.,  1., -2.],\n",
       "       [ 0., -6., -2.,  0., -4.],\n",
       "       [-4., -8., -2., -4.,  0.]])"
      ]
     },
     "execution_count": 22,
     "metadata": {},
     "output_type": "execute_result"
    }
   ],
   "execution_count": 22
  },
  {
   "cell_type": "code",
   "metadata": {
    "ExecuteTime": {
     "end_time": "2024-11-24T18:24:30.680068Z",
     "start_time": "2024-11-24T18:24:30.678183Z"
    }
   },
   "source": [
    "# Multiply the ones array with the latest array\n",
    "a_ones4 * a_random5"
   ],
   "outputs": [
    {
     "data": {
      "text/plain": [
       "array([[6., 7., 2., 0., 3.],\n",
       "       [1., 7., 3., 1., 5.],\n",
       "       [5., 9., 3., 5., 1.]])"
      ]
     },
     "execution_count": 23,
     "metadata": {},
     "output_type": "execute_result"
    }
   ],
   "execution_count": 23
  },
  {
   "cell_type": "code",
   "metadata": {
    "ExecuteTime": {
     "end_time": "2024-11-24T18:24:30.767109Z",
     "start_time": "2024-11-24T18:24:30.764046Z"
    }
   },
   "source": [
    "# Take the latest array to the power of 2 using '**'\n",
    "a_random5**2"
   ],
   "outputs": [
    {
     "data": {
      "text/plain": [
       "array([[36, 49,  4,  0,  9],\n",
       "       [ 1, 49,  9,  1, 25],\n",
       "       [25, 81,  9, 25,  1]])"
      ]
     },
     "execution_count": 24,
     "metadata": {},
     "output_type": "execute_result"
    }
   ],
   "execution_count": 24
  },
  {
   "cell_type": "code",
   "metadata": {
    "ExecuteTime": {
     "end_time": "2024-11-24T18:24:30.818917Z",
     "start_time": "2024-11-24T18:24:30.816632Z"
    }
   },
   "source": [
    "# Do the same thing with np.square()\n",
    "np.square(a_random5)"
   ],
   "outputs": [
    {
     "data": {
      "text/plain": [
       "array([[36, 49,  4,  0,  9],\n",
       "       [ 1, 49,  9,  1, 25],\n",
       "       [25, 81,  9, 25,  1]])"
      ]
     },
     "execution_count": 25,
     "metadata": {},
     "output_type": "execute_result"
    }
   ],
   "execution_count": 25
  },
  {
   "cell_type": "code",
   "metadata": {
    "ExecuteTime": {
     "end_time": "2024-11-24T18:24:30.884821Z",
     "start_time": "2024-11-24T18:24:30.883060Z"
    }
   },
   "source": [
    "# Find the mean of the latest array using np.mean()\n",
    "np.mean(a_random4)"
   ],
   "outputs": [
    {
     "data": {
      "text/plain": [
       "np.float64(5.190476190476191)"
      ]
     },
     "execution_count": 26,
     "metadata": {},
     "output_type": "execute_result"
    }
   ],
   "execution_count": 26
  },
  {
   "cell_type": "code",
   "metadata": {
    "ExecuteTime": {
     "end_time": "2024-11-24T18:24:30.921492Z",
     "start_time": "2024-11-24T18:24:30.919467Z"
    }
   },
   "source": [
    "# Find the maximum of the latest array using np.max()\n",
    "np.max(a_random5)"
   ],
   "outputs": [
    {
     "data": {
      "text/plain": [
       "np.int64(9)"
      ]
     },
     "execution_count": 27,
     "metadata": {},
     "output_type": "execute_result"
    }
   ],
   "execution_count": 27
  },
  {
   "cell_type": "code",
   "metadata": {
    "ExecuteTime": {
     "end_time": "2024-11-24T18:24:30.964998Z",
     "start_time": "2024-11-24T18:24:30.962937Z"
    }
   },
   "source": [
    "# Find the minimum of the latest array using np.min()\n",
    "np.min(a_random5)"
   ],
   "outputs": [
    {
     "data": {
      "text/plain": [
       "np.int64(0)"
      ]
     },
     "execution_count": 28,
     "metadata": {},
     "output_type": "execute_result"
    }
   ],
   "execution_count": 28
  },
  {
   "cell_type": "code",
   "metadata": {
    "ExecuteTime": {
     "end_time": "2024-11-24T18:24:30.986183Z",
     "start_time": "2024-11-24T18:24:30.983990Z"
    }
   },
   "source": [
    "# Find the standard deviation of the latest array\n",
    "np.std(a_random5)"
   ],
   "outputs": [
    {
     "data": {
      "text/plain": [
       "np.float64(2.578543947441829)"
      ]
     },
     "execution_count": 29,
     "metadata": {},
     "output_type": "execute_result"
    }
   ],
   "execution_count": 29
  },
  {
   "cell_type": "code",
   "metadata": {
    "ExecuteTime": {
     "end_time": "2024-11-24T18:24:31.016286Z",
     "start_time": "2024-11-24T18:24:31.012861Z"
    }
   },
   "source": [
    "# Find the variance of the latest array\n",
    "np.var(a_random5)"
   ],
   "outputs": [
    {
     "data": {
      "text/plain": [
       "np.float64(6.648888888888889)"
      ]
     },
     "execution_count": 30,
     "metadata": {},
     "output_type": "execute_result"
    }
   ],
   "execution_count": 30
  },
  {
   "cell_type": "code",
   "metadata": {
    "ExecuteTime": {
     "end_time": "2024-11-24T18:24:31.041913Z",
     "start_time": "2024-11-24T18:24:31.037408Z"
    }
   },
   "source": [
    "# Reshape the latest array to (3, 5, 1)\n",
    "a_random5.reshape(3, 5, 1)"
   ],
   "outputs": [
    {
     "data": {
      "text/plain": [
       "array([[[6],\n",
       "        [7],\n",
       "        [2],\n",
       "        [0],\n",
       "        [3]],\n",
       "\n",
       "       [[1],\n",
       "        [7],\n",
       "        [3],\n",
       "        [1],\n",
       "        [5]],\n",
       "\n",
       "       [[5],\n",
       "        [9],\n",
       "        [3],\n",
       "        [5],\n",
       "        [1]]])"
      ]
     },
     "execution_count": 31,
     "metadata": {},
     "output_type": "execute_result"
    }
   ],
   "execution_count": 31
  },
  {
   "cell_type": "code",
   "metadata": {
    "ExecuteTime": {
     "end_time": "2024-11-24T18:24:31.071461Z",
     "start_time": "2024-11-24T18:24:31.067131Z"
    }
   },
   "source": [
    "# Transpose the latest array\n",
    "a_random5.T"
   ],
   "outputs": [
    {
     "data": {
      "text/plain": [
       "array([[6, 1, 5],\n",
       "       [7, 7, 9],\n",
       "       [2, 3, 3],\n",
       "       [0, 1, 5],\n",
       "       [3, 5, 1]])"
      ]
     },
     "execution_count": 32,
     "metadata": {},
     "output_type": "execute_result"
    }
   ],
   "execution_count": 32
  },
  {
   "cell_type": "markdown",
   "metadata": {},
   "source": [
    "What does the transpose do?"
   ]
  },
  {
   "cell_type": "code",
   "metadata": {
    "ExecuteTime": {
     "end_time": "2024-11-24T18:24:31.103784Z",
     "start_time": "2024-11-24T18:24:31.101280Z"
    }
   },
   "source": [
    "# Create two arrays of random integers between 0 to 10\n",
    "# one of size (3, 3) the other of size (3, 2)\n",
    "a_random6 = np.random.randint(0, 10, size=(3, 3))\n",
    "a_random7 = np.random.randint(0, 10, size=(3, 2))"
   ],
   "outputs": [],
   "execution_count": 33
  },
  {
   "cell_type": "code",
   "metadata": {
    "ExecuteTime": {
     "end_time": "2024-11-24T18:24:31.131705Z",
     "start_time": "2024-11-24T18:24:31.128064Z"
    }
   },
   "source": [
    "# Perform a dot product on the two newest arrays you created\n",
    "a_random6.dot(a_random7)"
   ],
   "outputs": [
    {
     "data": {
      "text/plain": [
       "array([[ 88, 117],\n",
       "       [100, 123],\n",
       "       [ 89, 127]])"
      ]
     },
     "execution_count": 34,
     "metadata": {},
     "output_type": "execute_result"
    }
   ],
   "execution_count": 34
  },
  {
   "cell_type": "code",
   "metadata": {
    "ExecuteTime": {
     "end_time": "2024-11-24T18:24:31.190632Z",
     "start_time": "2024-11-24T18:24:31.184405Z"
    }
   },
   "source": [
    "# Create two arrays of random integers between 0 to 10\n",
    "# both of size (4, 3)\n",
    "a_random8 = np.random.randint(0, 10, size=(4, 3))\n",
    "a_random9 = np.random.randint(0, 10, size=(4, 3))"
   ],
   "outputs": [],
   "execution_count": 35
  },
  {
   "cell_type": "code",
   "metadata": {
    "ExecuteTime": {
     "end_time": "2024-11-24T18:24:31.215883Z",
     "start_time": "2024-11-24T18:24:31.213364Z"
    }
   },
   "source": [
    "# Perform a dot product on the two newest arrays you created\n",
    "# a_random8.dot(a_random9)"
   ],
   "outputs": [],
   "execution_count": 36
  },
  {
   "cell_type": "markdown",
   "metadata": {},
   "source": [
    "It doesn't work. How would you fix it?"
   ]
  },
  {
   "cell_type": "code",
   "metadata": {
    "ExecuteTime": {
     "end_time": "2024-11-24T18:24:31.229871Z",
     "start_time": "2024-11-24T18:24:31.226715Z"
    }
   },
   "source": [
    "# Take the latest two arrays, perform a transpose on one of them and then perform \n",
    "# a dot product on them both\n",
    "a_random8.dot(a_random9.T)"
   ],
   "outputs": [
    {
     "data": {
      "text/plain": [
       "array([[ 24, 102,  96,   8],\n",
       "       [ 16, 114, 106,  63],\n",
       "       [ 22, 123, 114,  56],\n",
       "       [  8,  60,  58,   7]])"
      ]
     },
     "execution_count": 37,
     "metadata": {},
     "output_type": "execute_result"
    }
   ],
   "execution_count": 37
  },
  {
   "cell_type": "markdown",
   "metadata": {},
   "source": [
    "Notice how performing a transpose allows the dot product to happen.\n",
    "\n",
    "Why is this?\n",
    "\n",
    "Checking out the documentation on [`np.dot()`](https://docs.scipy.org/doc/numpy/reference/generated/numpy.dot.html) may help, as well as reading [Math is Fun's guide on the dot product](https://www.mathsisfun.com/algebra/vectors-dot-product.html).\n",
    "\n",
    "Let's now compare arrays."
   ]
  },
  {
   "cell_type": "code",
   "metadata": {
    "ExecuteTime": {
     "end_time": "2024-11-24T18:24:31.264020Z",
     "start_time": "2024-11-24T18:24:31.261444Z"
    }
   },
   "source": [
    "# Create two arrays of random integers between 0 & 10 of the same shape\n",
    "# and save them to variables\n",
    "a_random10 = np.random.randint(0, 10, size=(5, 5))\n",
    "a_random11 = np.random.randint(0, 10, size=(5, 5))"
   ],
   "outputs": [],
   "execution_count": 38
  },
  {
   "cell_type": "code",
   "metadata": {
    "ExecuteTime": {
     "end_time": "2024-11-24T18:24:31.292079Z",
     "start_time": "2024-11-24T18:24:31.288055Z"
    }
   },
   "source": [
    "# Compare the two arrays with '>'\n",
    "a_random10 > a_random11"
   ],
   "outputs": [
    {
     "data": {
      "text/plain": [
       "array([[ True, False,  True,  True, False],\n",
       "       [ True, False,  True, False, False],\n",
       "       [False, False, False, False,  True],\n",
       "       [False, False,  True,  True,  True],\n",
       "       [False,  True, False,  True, False]])"
      ]
     },
     "execution_count": 39,
     "metadata": {},
     "output_type": "execute_result"
    }
   ],
   "execution_count": 39
  },
  {
   "cell_type": "markdown",
   "metadata": {},
   "source": [
    "What happens when you compare the arrays with `>`?"
   ]
  },
  {
   "cell_type": "code",
   "metadata": {
    "ExecuteTime": {
     "end_time": "2024-11-24T18:24:31.326644Z",
     "start_time": "2024-11-24T18:24:31.322623Z"
    }
   },
   "source": [
    "# Compare the two arrays with '>='\n",
    "a_random10 >= a_random11"
   ],
   "outputs": [
    {
     "data": {
      "text/plain": [
       "array([[ True,  True,  True,  True, False],\n",
       "       [ True,  True,  True, False, False],\n",
       "       [ True, False, False, False,  True],\n",
       "       [False,  True,  True,  True,  True],\n",
       "       [False,  True, False,  True, False]])"
      ]
     },
     "execution_count": 40,
     "metadata": {},
     "output_type": "execute_result"
    }
   ],
   "execution_count": 40
  },
  {
   "cell_type": "code",
   "metadata": {
    "ExecuteTime": {
     "end_time": "2024-11-24T18:24:31.363429Z",
     "start_time": "2024-11-24T18:24:31.361509Z"
    }
   },
   "source": [
    "# Find which elements of the first array are greater than 7\n",
    "a_random10 > 7"
   ],
   "outputs": [
    {
     "data": {
      "text/plain": [
       "array([[False, False, False, False, False],\n",
       "       [False, False, False, False, False],\n",
       "       [False, False, False, False,  True],\n",
       "       [False, False,  True,  True,  True],\n",
       "       [False, False, False, False, False]])"
      ]
     },
     "execution_count": 41,
     "metadata": {},
     "output_type": "execute_result"
    }
   ],
   "execution_count": 41
  },
  {
   "cell_type": "code",
   "metadata": {
    "ExecuteTime": {
     "end_time": "2024-11-24T18:24:31.421362Z",
     "start_time": "2024-11-24T18:24:31.417400Z"
    }
   },
   "source": [
    "# Which parts of each array are equal? (try using '==')\n",
    "a_random10 == a_random11"
   ],
   "outputs": [
    {
     "data": {
      "text/plain": [
       "array([[False,  True, False, False, False],\n",
       "       [False,  True, False, False, False],\n",
       "       [ True, False, False, False, False],\n",
       "       [False,  True, False, False, False],\n",
       "       [False, False, False, False, False]])"
      ]
     },
     "execution_count": 42,
     "metadata": {},
     "output_type": "execute_result"
    }
   ],
   "execution_count": 42
  },
  {
   "cell_type": "code",
   "metadata": {
    "ExecuteTime": {
     "end_time": "2024-11-24T18:25:23.807719Z",
     "start_time": "2024-11-24T18:25:23.805304Z"
    }
   },
   "source": [
    "# Sort one of the arrays you just created in ascending order\n",
    "np.sort(a_random11)"
   ],
   "outputs": [
    {
     "data": {
      "text/plain": [
       "array([[3, 4, 6, 6, 6],\n",
       "       [1, 2, 5, 8, 9],\n",
       "       [3, 4, 5, 6, 9],\n",
       "       [0, 0, 6, 8, 8],\n",
       "       [2, 3, 6, 8, 8]])"
      ]
     },
     "execution_count": 56,
     "metadata": {},
     "output_type": "execute_result"
    }
   ],
   "execution_count": 56
  },
  {
   "cell_type": "code",
   "metadata": {
    "ExecuteTime": {
     "end_time": "2024-11-24T18:25:47.108164Z",
     "start_time": "2024-11-24T18:25:47.105343Z"
    }
   },
   "source": [
    "# Sort the indexes of one of the arrays you just created\n",
    "np.argsort(a_random11)"
   ],
   "outputs": [
    {
     "data": {
      "text/plain": [
       "array([[3, 0, 1, 2, 4],\n",
       "       [2, 0, 1, 4, 3],\n",
       "       [2, 0, 1, 4, 3],\n",
       "       [2, 3, 1, 0, 4],\n",
       "       [3, 1, 4, 0, 2]])"
      ]
     },
     "execution_count": 57,
     "metadata": {},
     "output_type": "execute_result"
    }
   ],
   "execution_count": 57
  },
  {
   "cell_type": "code",
   "metadata": {
    "ExecuteTime": {
     "end_time": "2024-11-24T18:26:01.997937Z",
     "start_time": "2024-11-24T18:26:01.995069Z"
    }
   },
   "source": [
    "# Find the index with the maximum value in one of the arrays you've created\n",
    "np.max(a_random11)"
   ],
   "outputs": [
    {
     "data": {
      "text/plain": [
       "np.int64(9)"
      ]
     },
     "execution_count": 58,
     "metadata": {},
     "output_type": "execute_result"
    }
   ],
   "execution_count": 58
  },
  {
   "cell_type": "code",
   "metadata": {
    "ExecuteTime": {
     "end_time": "2024-11-24T18:26:13.125336Z",
     "start_time": "2024-11-24T18:26:13.122124Z"
    }
   },
   "source": [
    "# Find the index with the minimum value in one of the arrays you've created\n",
    "np.min(a_random11)"
   ],
   "outputs": [
    {
     "data": {
      "text/plain": [
       "np.int64(0)"
      ]
     },
     "execution_count": 59,
     "metadata": {},
     "output_type": "execute_result"
    }
   ],
   "execution_count": 59
  },
  {
   "cell_type": "code",
   "metadata": {
    "ExecuteTime": {
     "end_time": "2024-11-24T18:26:40.393135Z",
     "start_time": "2024-11-24T18:26:40.390684Z"
    }
   },
   "source": [
    "# Find the indexes with the maximum values down the 1st axis (axis=1)\n",
    "# of one of the arrays you created\n",
    "np.argmax(a_random11, axis=1)"
   ],
   "outputs": [
    {
     "data": {
      "text/plain": [
       "array([1, 3, 3, 0, 0])"
      ]
     },
     "execution_count": 61,
     "metadata": {},
     "output_type": "execute_result"
    }
   ],
   "execution_count": 61
  },
  {
   "cell_type": "code",
   "metadata": {
    "ExecuteTime": {
     "end_time": "2024-11-24T18:26:53.871133Z",
     "start_time": "2024-11-24T18:26:53.868635Z"
    }
   },
   "source": [
    "# Find the indexes with the minimum values across the 0th axis (axis=0)\n",
    "# of one of the arrays you created\n",
    "np.argmin(a_random11, axis=0)"
   ],
   "outputs": [
    {
     "data": {
      "text/plain": [
       "array([1, 4, 3, 3, 0])"
      ]
     },
     "execution_count": 62,
     "metadata": {},
     "output_type": "execute_result"
    }
   ],
   "execution_count": 62
  },
  {
   "cell_type": "code",
   "metadata": {
    "ExecuteTime": {
     "end_time": "2024-11-24T18:28:52.898794Z",
     "start_time": "2024-11-24T18:28:52.895670Z"
    }
   },
   "source": [
    "# Create an array of normally distributed random numbers\n",
    "a_random12 = np.random.randn(3, 5)\n",
    "a_random12"
   ],
   "outputs": [
    {
     "data": {
      "text/plain": [
       "array([[ 1.94511561, -0.15333646, -0.90698723, -0.81735416, -0.48312268],\n",
       "       [-0.56982835, -2.09159967,  1.26374053, -0.01548334, -0.02737645],\n",
       "       [ 0.81787351, -1.05460447, -0.75832712,  0.45741565, -0.06437805]])"
      ]
     },
     "execution_count": 66,
     "metadata": {},
     "output_type": "execute_result"
    }
   ],
   "execution_count": 66
  },
  {
   "cell_type": "code",
   "metadata": {
    "ExecuteTime": {
     "end_time": "2024-11-24T18:29:58.957387Z",
     "start_time": "2024-11-24T18:29:58.954836Z"
    }
   },
   "source": [
    "# Create an array with 10 evenly spaced numbers between 1 and 100\n",
    "a_spaced = np.arange(start=1, stop=100, step=10)\n",
    "a_spaced"
   ],
   "outputs": [
    {
     "data": {
      "text/plain": [
       "array([ 1, 11, 21, 31, 41, 51, 61, 71, 81, 91])"
      ]
     },
     "execution_count": 70,
     "metadata": {},
     "output_type": "execute_result"
    }
   ],
   "execution_count": 70
  },
  {
   "cell_type": "markdown",
   "metadata": {},
   "source": [
    "## Extensions\n",
    "\n",
    "For more exercises, check out the [NumPy quickstart tutorial](https://numpy.org/doc/stable/user/quickstart.html). A good practice would be to read through it and for the parts you find interesting, add them into the end of this notebook.\n",
    "\n",
    "Pay particular attention to the section on broadcasting. And most importantly, get hands-on with the code as much as possible. If in dobut, run the code, see what it does.\n",
    "\n",
    "The next place you could go is the [Stack Overflow page for the top questions and answers for NumPy](https://stackoverflow.com/questions/tagged/numpy?sort=MostVotes&edited=true). Often, you'll find some of the most common and useful NumPy functions here. Don't forget to play around with the filters! You'll likely find something helpful here.\n",
    "\n",
    "Finally, as always, remember, the best way to learn something new is to try it. And try it relentlessly. If you get interested in some kind of NumPy function, asking yourself, \"I wonder if NumPy could do that?\", go and find out."
   ]
  }
 ],
 "metadata": {
  "kernelspec": {
   "display_name": "Python 3",
   "language": "python",
   "name": "python3"
  },
  "language_info": {
   "codemirror_mode": {
    "name": "ipython",
    "version": 3
   },
   "file_extension": ".py",
   "mimetype": "text/x-python",
   "name": "python",
   "nbconvert_exporter": "python",
   "pygments_lexer": "ipython3",
   "version": "3.8.3"
  }
 },
 "nbformat": 4,
 "nbformat_minor": 2
}
